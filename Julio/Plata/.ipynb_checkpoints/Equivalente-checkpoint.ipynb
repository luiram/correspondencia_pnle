{
 "cells": [
  {
   "cell_type": "markdown",
   "id": "0aa30a88-c124-4e87-b138-94b6397da859",
   "metadata": {},
   "source": [
    "## 1. Importar librerias"
   ]
  },
  {
   "cell_type": "code",
   "execution_count": 1,
   "id": "410d9530-3473-498e-bc91-91240b1de0eb",
   "metadata": {},
   "outputs": [],
   "source": [
    "import pandas as pd\n",
    "from docx import Document\n",
    "from num2words import num2words\n",
    "import os"
   ]
  },
  {
   "cell_type": "markdown",
   "id": "35710b20-c77f-454d-bc3b-1628b8d4ce56",
   "metadata": {},
   "source": [
    "## 2. Función para remplazar texto en el documento"
   ]
  },
  {
   "cell_type": "code",
   "execution_count": 2,
   "id": "dfb98622-d5e6-43a0-bfd2-101a5884f1b5",
   "metadata": {},
   "outputs": [],
   "source": [
    "# Función para reemplazar texto en párrafos y celdas de tabla\n",
    "def reemplazar_texto(paragraphs, marcador, reemplazo):\n",
    "    for p in paragraphs:\n",
    "        if marcador in p.text:\n",
    "            inline = p.runs\n",
    "            for i in range(len(inline)):\n",
    "                if marcador in inline[i].text:\n",
    "                    inline[i].text = inline[i].text.replace(marcador, reemplazo)\n",
    "\n",
    "# Función para reemplazar texto en todo el documento\n",
    "def reemplazar_texto_en_documento(doc, marcador, reemplazo):\n",
    "    # Reemplazar en párrafos normales\n",
    "    reemplazar_texto(doc.paragraphs, marcador, reemplazo)\n",
    "    \n",
    "    # Reemplazar en tablas\n",
    "    for table in doc.tables:\n",
    "        for row in table.rows:\n",
    "            for cell in row.cells:\n",
    "                reemplazar_texto(cell.paragraphs, marcador, reemplazo)\n",
    "                # Asegurar reemplazo en celdas combinadas\n",
    "                for nested_table in cell.tables:\n",
    "                    for nested_row in nested_table.rows:\n",
    "                        for nested_cell in nested_row.cells:\n",
    "                            reemplazar_texto(nested_cell.paragraphs, marcador, reemplazo)\n"
   ]
  },
  {
   "cell_type": "markdown",
   "id": "9c20e755-0bf2-48a5-898f-a3c24758c5ba",
   "metadata": {},
   "source": [
    "## 2. Carga de datos"
   ]
  },
  {
   "cell_type": "code",
   "execution_count": 3,
   "id": "304498b1-b269-4a9d-96d6-c00f861ebd7c",
   "metadata": {},
   "outputs": [],
   "source": [
    "# Cargar la tabla de datos contratista\n",
    "\n",
    "datos_df = 'BASE_DATOS_COMISIONISTAS V02.xlsx'\n",
    "datos_df = pd.read_excel(datos_df,\n",
    "                          sheet_name = 'BASE_DATOS',\n",
    "                          header = 1,\n",
    "                          usecols = 'A:CT'\n",
    "                         )"
   ]
  },
  {
   "cell_type": "code",
   "execution_count": 4,
   "id": "6b14930e-b77c-4436-af70-b34a186f6573",
   "metadata": {
    "scrolled": true
   },
   "outputs": [
    {
     "name": "stdout",
     "output_type": "stream",
     "text": [
      "(38, 98)\n",
      "<class 'pandas.core.frame.DataFrame'>\n",
      "RangeIndex: 38 entries, 0 to 37\n",
      "Data columns (total 98 columns):\n",
      " #   Column                                                  Non-Null Count  Dtype         \n",
      "---  ------                                                  --------------  -----         \n",
      " 0   NOMBRES                                                 38 non-null     object        \n",
      " 1   Rol                                                     38 non-null     object        \n",
      " 2   CC                                                      38 non-null     int64         \n",
      " 3   FECHA NACIMIENTO                                        38 non-null     datetime64[ns]\n",
      " 4   ARL                                                     0 non-null      float64       \n",
      " 5   TELEFONO                                                38 non-null     int64         \n",
      " 6   CELULAR                                                 38 non-null     int64         \n",
      " 7   DIRECCIÓN                                               0 non-null      float64       \n",
      " 8   CORREO                                                  37 non-null     object        \n",
      " 9   CIUDAD RESIDENCIA                                       38 non-null     object        \n",
      " 10  TOTAL DEBE                                              0 non-null      float64       \n",
      " 11  TOTAL DEBE LETRAS                                       0 non-null      float64       \n",
      " 12  CONCEPTO                                                38 non-null     object        \n",
      " 13  DECLARA RENTA                                           0 non-null      float64       \n",
      " 14  BANCO CUENTA                                            0 non-null      float64       \n",
      " 15  TIPO CUENTA                                             0 non-null      float64       \n",
      " 16  NO CUENTA                                               0 non-null      float64       \n",
      " 17  CONTRATISTAS A CARGO                                    0 non-null      float64       \n",
      " 18  NUMERO REQUERIMIENTO                                    38 non-null     object        \n",
      " 19  EQUIPO DE TRABAJO                                       38 non-null     object        \n",
      " 20  CARGO                                                   38 non-null     object        \n",
      " 21  DEPARTAMENTO DESTINO                                    38 non-null     object        \n",
      " 22  MUNICIPIO DESTINO                                       38 non-null     object        \n",
      " 23  FECHA INICIO                                            38 non-null     datetime64[ns]\n",
      " 24  FECHA FINAL                                             38 non-null     datetime64[ns]\n",
      " 25  DIAS DE PERMANENCIA                                     38 non-null     float64       \n",
      " 26  OBJETO COMISIÓN                                         38 non-null     object        \n",
      " 27  FECHA DIA 1 AGENDA PROGRAMADA\n",
      "\n",
      "Martes 16/07/2024        0 non-null      float64       \n",
      " 28  HORA DIA 1 AGENDA PROGRAMADA\n",
      "Martes 16/07/2024          0 non-null      float64       \n",
      " 29  ACTIVIDAD DIA 1 AGENDA PROGRAMADA\n",
      "\n",
      "Martes 16/07/2024    0 non-null      float64       \n",
      " 30  FECHA DIA 2 AGENDA PROGRAMADA\n",
      "Miercoles 17/07/2024      0 non-null      float64       \n",
      " 31  HORA DIA 2 AGENDA PROGRAMADA\n",
      "Miercoles 17/07/2024       0 non-null      float64       \n",
      " 32  ACTIVIDAD DIA 2 AGENDA PROGRAMADA\n",
      "Miercoles 17/07/2024  0 non-null      float64       \n",
      " 33  FECHA DIA 3 AGENDA PROGRAMADA\n",
      "Jueves 18/07/2025         0 non-null      float64       \n",
      " 34  HORA DIA 3 AGENDA PROGRAMADA\n",
      "Jueves 18/07/2025          0 non-null      float64       \n",
      " 35  ACTIVIDAD DIA 3 AGENDA PROGRAMADA\n",
      "Jueves 18/07/2025     0 non-null      float64       \n",
      " 36  FECHA DIA 4  AGENDA PROGRAMADA\n",
      "Viernes 19/07/2024       0 non-null      float64       \n",
      " 37  HORA DIA 4 AGENDA PROGRAMADA\n",
      "Viernes 19/07/2024         0 non-null      float64       \n",
      " 38  ACTIVIDAD DIA 4 AGENDA PROGRAMADA\n",
      "Viernes 19/07/2024    0 non-null      float64       \n",
      " 39  IDA ORIGEN                                              8 non-null      object        \n",
      " 40  IDA DESTINO                                             8 non-null      object        \n",
      " 41  IDA FECHA                                               8 non-null      datetime64[ns]\n",
      " 42  IDA HORA SIGERIDA SALIDA                                8 non-null      object        \n",
      " 43  REGRESO ORIGEN                                          8 non-null      object        \n",
      " 44  REGRESO DESTINO                                         8 non-null      object        \n",
      " 45  REGRESO FECHA                                           8 non-null      datetime64[ns]\n",
      " 46  HORA SIGERIDA REGRESO                                   0 non-null      float64       \n",
      " 47  REQUIERE EQUIPAGE BODEGA                                0 non-null      float64       \n",
      " 48  OBSERVACIONES ESPECIALES                                0 non-null      float64       \n",
      " 49  VALOR ESTIMADO TIQUETE                                  8 non-null      float64       \n",
      " 50  Lugar de origen                                         0 non-null      float64       \n",
      " 51  Fecha Origen                                            0 non-null      float64       \n",
      " 52  Lugar de destino                                        0 non-null      float64       \n",
      " 53  Fecha Destino                                           0 non-null      float64       \n",
      " 54  Tipo de transporte                                      0 non-null      float64       \n",
      " 55  Observaciones                                           0 non-null      float64       \n",
      " 56  Costo estimado de transporte                            0 non-null      float64       \n",
      " 57  Lugar de origen 2                                       0 non-null      float64       \n",
      " 58  Fecha Origen 2                                          0 non-null      float64       \n",
      " 59  Lugar de destino 2                                      0 non-null      float64       \n",
      " 60  Fecha Destino 2                                         0 non-null      float64       \n",
      " 61  Tipo de transporte 2                                    0 non-null      float64       \n",
      " 62  Observaciones 2                                         0 non-null      float64       \n",
      " 63  Costo estimado de transporte 2                          0 non-null      float64       \n",
      " 64  Lugar de origen 3                                       0 non-null      float64       \n",
      " 65  Fecha Origen 3                                          0 non-null      float64       \n",
      " 66  Lugar de destino 3                                      0 non-null      float64       \n",
      " 67  Fecha Destino 3                                         0 non-null      float64       \n",
      " 68  Tipo de transporte 3                                    0 non-null      float64       \n",
      " 69  Observaciones 3                                         0 non-null      float64       \n",
      " 70  Costo estimado de transporte 3                          0 non-null      float64       \n",
      " 71  TOTAL COSTO                                             38 non-null     int64         \n",
      " 72  RANGO                                                   0 non-null      float64       \n",
      " 73  VALOR DIA                                               0 non-null      float64       \n",
      " 74  VALOR APROBADO ANTICIPO                                 0 non-null      float64       \n",
      " 75  TOTAL APROBADO                                          38 non-null     int64         \n",
      " 76  FECHA APROBADO                                          0 non-null      float64       \n",
      " 77  Componente                                              30 non-null     object        \n",
      " 78  Rubro presupuestal                                      30 non-null     object        \n",
      " 79  No. días aprobados                                      0 non-null      float64       \n",
      " 80  Rango2                                                  0 non-null      float64       \n",
      " 81  Valor día                                               0 non-null      float64       \n",
      " 82  Desayuno, almuerzo, transp. Urbano                      38 non-null     int64         \n",
      " 83  Componente2                                             30 non-null     object        \n",
      " 84  Rubro presupuestal2                                     0 non-null      float64       \n",
      " 85  R                                                       0 non-null      float64       \n",
      " 86  Recursos disponibles en el rubro                        0 non-null      float64       \n",
      " 87  Valor proyectado compra tiquete                         0 non-null      float64       \n",
      " 88  Componente3                                             30 non-null     object        \n",
      " 89  Rubro presupuestal3                                     0 non-null      float64       \n",
      " 90  Recursos disponibles en el rubro2                       0 non-null      float64       \n",
      " 91  valor aprobado transporte intermunicipal2               38 non-null     int64         \n",
      " 92  Columna1                                                38 non-null     object        \n",
      " 93  Observaciones especiales para la solicitud              14 non-null     object        \n",
      " 94  Hacia Quibdó                                            38 non-null     int64         \n",
      " 95  Hacia ciudad de origen                                  38 non-null     int64         \n",
      " 96  GASTOS DE DESPLAZAMIENTO                                38 non-null     int64         \n",
      " 97  VALOR TOTAL INTERMUNICIPAL Y DESPLAZAMIENTO             38 non-null     int64         \n",
      "dtypes: datetime64[ns](5), float64(60), int64(11), object(22)\n",
      "memory usage: 29.2+ KB\n"
     ]
    }
   ],
   "source": [
    "# número de filas y columnas\n",
    "print(datos_df.shape)\n",
    "\n",
    "# Identificación de columnas catagoricas y numéricas del set de datos\n",
    "datos_df.info()"
   ]
  },
  {
   "cell_type": "code",
   "execution_count": 5,
   "id": "297a5bdd-22c4-4d32-8e8b-d1f78eecea0b",
   "metadata": {},
   "outputs": [],
   "source": [
    "# Ruta del archivo de la plantilla\n",
    "plantilla_path = 'Plantilla FORMATO DOCUMENTO EQUIVALENTE.docx'"
   ]
  },
  {
   "cell_type": "markdown",
   "id": "d25712c7-7d91-4d80-89bf-6f7e5f905ead",
   "metadata": {},
   "source": [
    "## 3. Carpeta de salida"
   ]
  },
  {
   "cell_type": "code",
   "execution_count": 6,
   "id": "9ab2ebfd-05f7-44cd-b9d6-f370fa1ca48d",
   "metadata": {},
   "outputs": [],
   "source": [
    "# Crear la carpeta de salida si no existe\n",
    "output_folder = 'Documentos_Equivalente'\n",
    "if not os.path.exists(output_folder):\n",
    "    os.makedirs(output_folder)"
   ]
  },
  {
   "cell_type": "markdown",
   "id": "158e692f-15c6-4c8d-be06-f3dd21e06d64",
   "metadata": {},
   "source": [
    "## 4. Cruce de correspondencia"
   ]
  },
  {
   "cell_type": "code",
   "execution_count": 7,
   "id": "e0b0792c-2691-4c8a-86b9-7b078ceececb",
   "metadata": {},
   "outputs": [
    {
     "name": "stdout",
     "output_type": "stream",
     "text": [
      "Documentos generados con éxito.\n"
     ]
    }
   ],
   "source": [
    "for index, row in datos_df.iterrows():\n",
    "    # Cargar la plantilla de Word\n",
    "    doc = Document(plantilla_path)\n",
    "\n",
    "    # Reemplazar los marcadores de posición con los datos del cliente\n",
    "    reemplazo_nombres = str(row['NOMBRES'])\n",
    "    print(f\"Reemplazando {{NOMBRES}} con: {reemplazo_nombres}\")\n",
    "    reemplazar_texto_en_documento(doc, '{{NOMBRES}}', reemplazo_nombres)\n",
    "    \n",
    "    reemplazar_texto_en_documento(doc, '{{CC}}', str(row['CC']))\n",
    "    reemplazar_texto_en_documento(doc, '{{TELEFONO}}', str(row['TELEFONO']))\n",
    "    reemplazar_texto_en_documento(doc, '{{CELULAR}}', str(row['CELULAR']))\n",
    "    reemplazar_texto_en_documento(doc, '{{DIRECCIÓN}}', str(row['DIRECCIÓN']))\n",
    "    reemplazar_texto_en_documento(doc, '{{CORREO}}', str(row['CORREO']))\n",
    "    reemplazar_texto_en_documento(doc, '{{CIUDAD RESIDENCIA}}', str(row['CIUDAD RESIDENCIA']))\n",
    "    reemplazar_texto_en_documento(doc, '{{VALOR TOTAL}}', str(row['VALOR TOTAL INTERMUNICIPAL Y DESPLAZAMIENTO']))\n",
    "\n",
    "    valor_interm_desplaza = row['VALOR TOTAL INTERMUNICIPAL Y DESPLAZAMIENTO']\n",
    "    if pd.notna(valor_interm_desplaza):\n",
    "        valor_interm_desplaza = float(valor_interm_desplaza)\n",
    "        valor_en_palabras = num2words(valor_interm_desplaza, lang='es').upper()\n",
    "        valor_en_palabras_str = f\"{valor_en_palabras} M/CTE\"\n",
    "    else:\n",
    "        valor_en_palabras_str = ''\n",
    "    reemplazar_texto_en_documento(doc, '{{VALOR TOTAL INTERMUNICIPAL Y DESPLAZAMIENTO}}', valor_en_palabras_str)\n",
    "\n",
    "    # Nombre del archivo de salida\n",
    "    nombre_archivo = os.path.join(output_folder, f\"{row['NUMERO REQUERIMIENTO']}_Equivalente_{row['NOMBRES']}.docx\")\n",
    "\n",
    "    # Guardar el nuevo documento\n",
    "    doc.save(nombre_archivo)\n",
    "\n",
    "print(\"Documentos generados con éxito.\")"
   ]
  },
  {
   "cell_type": "code",
   "execution_count": null,
   "id": "6641771d-27c8-46d1-9128-8cc93b4e278b",
   "metadata": {},
   "outputs": [],
   "source": []
  }
 ],
 "metadata": {
  "kernelspec": {
   "display_name": "Python 3 (ipykernel)",
   "language": "python",
   "name": "python3"
  },
  "language_info": {
   "codemirror_mode": {
    "name": "ipython",
    "version": 3
   },
   "file_extension": ".py",
   "mimetype": "text/x-python",
   "name": "python",
   "nbconvert_exporter": "python",
   "pygments_lexer": "ipython3",
   "version": "3.9.18"
  }
 },
 "nbformat": 4,
 "nbformat_minor": 5
}

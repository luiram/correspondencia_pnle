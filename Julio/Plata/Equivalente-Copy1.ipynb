{
 "cells": [
  {
   "cell_type": "markdown",
   "id": "0aa30a88-c124-4e87-b138-94b6397da859",
   "metadata": {},
   "source": [
    "## 1. Importar librerias"
   ]
  },
  {
   "cell_type": "code",
   "execution_count": 16,
   "id": "410d9530-3473-498e-bc91-91240b1de0eb",
   "metadata": {},
   "outputs": [],
   "source": [
    "import pandas as pd\n",
    "from docxtpl import DocxTemplate # Para trabajar con plantillas\n",
    "import os"
   ]
  },
  {
   "cell_type": "markdown",
   "id": "9c20e755-0bf2-48a5-898f-a3c24758c5ba",
   "metadata": {},
   "source": [
    "## 2. Carga de datos"
   ]
  },
  {
   "cell_type": "code",
   "execution_count": 17,
   "id": "304498b1-b269-4a9d-96d6-c00f861ebd7c",
   "metadata": {},
   "outputs": [],
   "source": [
    "# Cargar la tabla de datos contratista\n",
    "\n",
    "datos_df = 'BASE_DATOS_COMISIONISTAS V02.xlsx'\n",
    "datos_df = pd.read_excel(datos_df,\n",
    "                          sheet_name = 'BASE_DATOS',\n",
    "                          header = 1,\n",
    "                          usecols = 'A:CT'\n",
    "                         )"
   ]
  },
  {
   "cell_type": "code",
   "execution_count": 18,
   "id": "6b14930e-b77c-4436-af70-b34a186f6573",
   "metadata": {
    "scrolled": true
   },
   "outputs": [
    {
     "name": "stdout",
     "output_type": "stream",
     "text": [
      "(38, 98)\n",
      "<class 'pandas.core.frame.DataFrame'>\n",
      "RangeIndex: 38 entries, 0 to 37\n",
      "Data columns (total 98 columns):\n",
      " #   Column                                                  Non-Null Count  Dtype         \n",
      "---  ------                                                  --------------  -----         \n",
      " 0   NOMBRES                                                 38 non-null     object        \n",
      " 1   Rol                                                     38 non-null     object        \n",
      " 2   CC                                                      38 non-null     int64         \n",
      " 3   FECHA NACIMIENTO                                        38 non-null     datetime64[ns]\n",
      " 4   ARL                                                     0 non-null      float64       \n",
      " 5   TELEFONO                                                38 non-null     int64         \n",
      " 6   CELULAR                                                 38 non-null     int64         \n",
      " 7   DIRECCIÓN                                               0 non-null      float64       \n",
      " 8   CORREO                                                  37 non-null     object        \n",
      " 9   CIUDAD RESIDENCIA                                       38 non-null     object        \n",
      " 10  TOTAL DEBE                                              0 non-null      float64       \n",
      " 11  TOTAL DEBE LETRAS                                       0 non-null      float64       \n",
      " 12  CONCEPTO                                                38 non-null     object        \n",
      " 13  DECLARA RENTA                                           0 non-null      float64       \n",
      " 14  BANCO CUENTA                                            0 non-null      float64       \n",
      " 15  TIPO CUENTA                                             0 non-null      float64       \n",
      " 16  NO CUENTA                                               0 non-null      float64       \n",
      " 17  CONTRATISTAS A CARGO                                    0 non-null      float64       \n",
      " 18  NUMERO REQUERIMIENTO                                    38 non-null     object        \n",
      " 19  EQUIPO DE TRABAJO                                       38 non-null     object        \n",
      " 20  CARGO                                                   38 non-null     object        \n",
      " 21  DEPARTAMENTO DESTINO                                    38 non-null     object        \n",
      " 22  MUNICIPIO DESTINO                                       38 non-null     object        \n",
      " 23  FECHA INICIO                                            38 non-null     datetime64[ns]\n",
      " 24  FECHA FINAL                                             38 non-null     datetime64[ns]\n",
      " 25  DIAS DE PERMANENCIA                                     38 non-null     float64       \n",
      " 26  OBJETO COMISIÓN                                         38 non-null     object        \n",
      " 27  FECHA DIA 1 AGENDA PROGRAMADA\n",
      "\n",
      "Martes 16/07/2024        0 non-null      float64       \n",
      " 28  HORA DIA 1 AGENDA PROGRAMADA\n",
      "Martes 16/07/2024          0 non-null      float64       \n",
      " 29  ACTIVIDAD DIA 1 AGENDA PROGRAMADA\n",
      "\n",
      "Martes 16/07/2024    0 non-null      float64       \n",
      " 30  FECHA DIA 2 AGENDA PROGRAMADA\n",
      "Miercoles 17/07/2024      0 non-null      float64       \n",
      " 31  HORA DIA 2 AGENDA PROGRAMADA\n",
      "Miercoles 17/07/2024       0 non-null      float64       \n",
      " 32  ACTIVIDAD DIA 2 AGENDA PROGRAMADA\n",
      "Miercoles 17/07/2024  0 non-null      float64       \n",
      " 33  FECHA DIA 3 AGENDA PROGRAMADA\n",
      "Jueves 18/07/2025         0 non-null      float64       \n",
      " 34  HORA DIA 3 AGENDA PROGRAMADA\n",
      "Jueves 18/07/2025          0 non-null      float64       \n",
      " 35  ACTIVIDAD DIA 3 AGENDA PROGRAMADA\n",
      "Jueves 18/07/2025     0 non-null      float64       \n",
      " 36  FECHA DIA 4  AGENDA PROGRAMADA\n",
      "Viernes 19/07/2024       0 non-null      float64       \n",
      " 37  HORA DIA 4 AGENDA PROGRAMADA\n",
      "Viernes 19/07/2024         0 non-null      float64       \n",
      " 38  ACTIVIDAD DIA 4 AGENDA PROGRAMADA\n",
      "Viernes 19/07/2024    0 non-null      float64       \n",
      " 39  IDA ORIGEN                                              8 non-null      object        \n",
      " 40  IDA DESTINO                                             8 non-null      object        \n",
      " 41  IDA FECHA                                               8 non-null      datetime64[ns]\n",
      " 42  IDA HORA SIGERIDA SALIDA                                8 non-null      object        \n",
      " 43  REGRESO ORIGEN                                          8 non-null      object        \n",
      " 44  REGRESO DESTINO                                         8 non-null      object        \n",
      " 45  REGRESO FECHA                                           8 non-null      datetime64[ns]\n",
      " 46  HORA SIGERIDA REGRESO                                   0 non-null      float64       \n",
      " 47  REQUIERE EQUIPAGE BODEGA                                0 non-null      float64       \n",
      " 48  OBSERVACIONES ESPECIALES                                0 non-null      float64       \n",
      " 49  VALOR ESTIMADO TIQUETE                                  8 non-null      float64       \n",
      " 50  Lugar de origen                                         0 non-null      float64       \n",
      " 51  Fecha Origen                                            0 non-null      float64       \n",
      " 52  Lugar de destino                                        0 non-null      float64       \n",
      " 53  Fecha Destino                                           0 non-null      float64       \n",
      " 54  Tipo de transporte                                      0 non-null      float64       \n",
      " 55  Observaciones                                           0 non-null      float64       \n",
      " 56  Costo estimado de transporte                            0 non-null      float64       \n",
      " 57  Lugar de origen 2                                       0 non-null      float64       \n",
      " 58  Fecha Origen 2                                          0 non-null      float64       \n",
      " 59  Lugar de destino 2                                      0 non-null      float64       \n",
      " 60  Fecha Destino 2                                         0 non-null      float64       \n",
      " 61  Tipo de transporte 2                                    0 non-null      float64       \n",
      " 62  Observaciones 2                                         0 non-null      float64       \n",
      " 63  Costo estimado de transporte 2                          0 non-null      float64       \n",
      " 64  Lugar de origen 3                                       0 non-null      float64       \n",
      " 65  Fecha Origen 3                                          0 non-null      float64       \n",
      " 66  Lugar de destino 3                                      0 non-null      float64       \n",
      " 67  Fecha Destino 3                                         0 non-null      float64       \n",
      " 68  Tipo de transporte 3                                    0 non-null      float64       \n",
      " 69  Observaciones 3                                         0 non-null      float64       \n",
      " 70  Costo estimado de transporte 3                          0 non-null      float64       \n",
      " 71  TOTAL COSTO                                             38 non-null     int64         \n",
      " 72  RANGO                                                   0 non-null      float64       \n",
      " 73  VALOR DIA                                               0 non-null      float64       \n",
      " 74  VALOR APROBADO ANTICIPO                                 0 non-null      float64       \n",
      " 75  TOTAL APROBADO                                          38 non-null     int64         \n",
      " 76  FECHA APROBADO                                          0 non-null      float64       \n",
      " 77  Componente                                              30 non-null     object        \n",
      " 78  Rubro presupuestal                                      30 non-null     object        \n",
      " 79  No. días aprobados                                      0 non-null      float64       \n",
      " 80  Rango2                                                  0 non-null      float64       \n",
      " 81  Valor día                                               0 non-null      float64       \n",
      " 82  Desayuno, almuerzo, transp. Urbano                      38 non-null     int64         \n",
      " 83  Componente2                                             30 non-null     object        \n",
      " 84  Rubro presupuestal2                                     0 non-null      float64       \n",
      " 85  R                                                       0 non-null      float64       \n",
      " 86  Recursos disponibles en el rubro                        0 non-null      float64       \n",
      " 87  Valor proyectado compra tiquete                         0 non-null      float64       \n",
      " 88  Componente3                                             30 non-null     object        \n",
      " 89  Rubro presupuestal3                                     0 non-null      float64       \n",
      " 90  Recursos disponibles en el rubro2                       0 non-null      float64       \n",
      " 91  valor aprobado transporte intermunicipal2               38 non-null     int64         \n",
      " 92  Columna1                                                38 non-null     object        \n",
      " 93  Observaciones especiales para la solicitud              14 non-null     object        \n",
      " 94  Hacia Quibdó                                            38 non-null     int64         \n",
      " 95  Hacia ciudad de origen                                  38 non-null     int64         \n",
      " 96  GASTOS DE DESPLAZAMIENTO                                38 non-null     int64         \n",
      " 97  VALOR TOTAL INTERMUNICIPAL Y DESPLAZAMIENTO             38 non-null     int64         \n",
      "dtypes: datetime64[ns](5), float64(60), int64(11), object(22)\n",
      "memory usage: 29.2+ KB\n"
     ]
    }
   ],
   "source": [
    "# número de filas y columnas\n",
    "print(datos_df.shape)\n",
    "\n",
    "# Identificación de columnas catagoricas y numéricas del set de datos\n",
    "datos_df.info()"
   ]
  },
  {
   "cell_type": "code",
   "execution_count": 19,
   "id": "297a5bdd-22c4-4d32-8e8b-d1f78eecea0b",
   "metadata": {},
   "outputs": [],
   "source": [
    "# Ruta del archivo de la plantilla\n",
    "doc = DocxTemplate(\"Plantilla2.docx\")"
   ]
  },
  {
   "cell_type": "markdown",
   "id": "d25712c7-7d91-4d80-89bf-6f7e5f905ead",
   "metadata": {},
   "source": [
    "## 3. Carpeta de salida"
   ]
  },
  {
   "cell_type": "code",
   "execution_count": 20,
   "id": "9ab2ebfd-05f7-44cd-b9d6-f370fa1ca48d",
   "metadata": {},
   "outputs": [],
   "source": [
    "# Crear la carpeta de salida si no existe\n",
    "output_folder = 'Documentos_Equivalente'\n",
    "if not os.path.exists(output_folder):\n",
    "    os.makedirs(output_folder)"
   ]
  },
  {
   "cell_type": "markdown",
   "id": "158e692f-15c6-4c8d-be06-f3dd21e06d64",
   "metadata": {},
   "source": [
    "## 4. Cruce de correspondencia"
   ]
  },
  {
   "cell_type": "code",
   "execution_count": 21,
   "id": "e0b0792c-2691-4c8a-86b9-7b078ceececb",
   "metadata": {
    "scrolled": true
   },
   "outputs": [
    {
     "ename": "TemplateSyntaxError",
     "evalue": "expected token 'end of print statement', got 'TOTAL'",
     "output_type": "error",
     "traceback": [
      "\u001b[1;31m---------------------------------------------------------------------------\u001b[0m",
      "\u001b[1;31mTemplateSyntaxError\u001b[0m                       Traceback (most recent call last)",
      "Cell \u001b[1;32mIn[21], line 16\u001b[0m\n\u001b[0;32m      2\u001b[0m content \u001b[38;5;241m=\u001b[39m {\n\u001b[0;32m      3\u001b[0m     \u001b[38;5;124m'\u001b[39m\u001b[38;5;124mNOMBRES\u001b[39m\u001b[38;5;124m'\u001b[39m: row[\u001b[38;5;124m\"\u001b[39m\u001b[38;5;124mNOMBRES\u001b[39m\u001b[38;5;124m\"\u001b[39m]\n\u001b[0;32m      4\u001b[0m     \n\u001b[1;32m   (...)\u001b[0m\n\u001b[0;32m     12\u001b[0m     \u001b[38;5;66;03m#'NUMERO_REQUERIMIENTO': row[\"NUMERO REQUERIMIENTO\"]\u001b[39;00m\n\u001b[0;32m     13\u001b[0m }\n\u001b[0;32m     15\u001b[0m \u001b[38;5;66;03m# Renderizar la plantilla con los datos de la fila actual\u001b[39;00m\n\u001b[1;32m---> 16\u001b[0m \u001b[43mdoc\u001b[49m\u001b[38;5;241;43m.\u001b[39;49m\u001b[43mrender\u001b[49m\u001b[43m(\u001b[49m\u001b[43mcontent\u001b[49m\u001b[43m)\u001b[49m\n\u001b[0;32m     18\u001b[0m \u001b[38;5;66;03m# Guardar el nuevo documento renderizado\u001b[39;00m\n\u001b[0;32m     19\u001b[0m doc\u001b[38;5;241m.\u001b[39msave(\u001b[38;5;124mf\u001b[39m\u001b[38;5;124m\"\u001b[39m\u001b[38;5;132;01m{\u001b[39;00mrow[\u001b[38;5;124m'\u001b[39m\u001b[38;5;124mNUMERO REQUERIMIENTO\u001b[39m\u001b[38;5;124m'\u001b[39m]\u001b[38;5;132;01m}\u001b[39;00m\u001b[38;5;124m_Equivalente_\u001b[39m\u001b[38;5;132;01m{\u001b[39;00mrow[\u001b[38;5;124m'\u001b[39m\u001b[38;5;124mNOMBRES\u001b[39m\u001b[38;5;124m'\u001b[39m]\u001b[38;5;132;01m}\u001b[39;00m\u001b[38;5;124m.docx\u001b[39m\u001b[38;5;124m\"\u001b[39m)\n",
      "File \u001b[1;32m~\\anaconda3\\envs\\Varios_BN\\lib\\site-packages\\docxtpl\\template.py:368\u001b[0m, in \u001b[0;36mDocxTemplate.render\u001b[1;34m(self, context, jinja_env, autoescape)\u001b[0m\n\u001b[0;32m    365\u001b[0m         jinja_env\u001b[38;5;241m.\u001b[39mautoescape \u001b[38;5;241m=\u001b[39m autoescape\n\u001b[0;32m    367\u001b[0m \u001b[38;5;66;03m# Body\u001b[39;00m\n\u001b[1;32m--> 368\u001b[0m xml_src \u001b[38;5;241m=\u001b[39m \u001b[38;5;28;43mself\u001b[39;49m\u001b[38;5;241;43m.\u001b[39;49m\u001b[43mbuild_xml\u001b[49m\u001b[43m(\u001b[49m\u001b[43mcontext\u001b[49m\u001b[43m,\u001b[49m\u001b[43m \u001b[49m\u001b[43mjinja_env\u001b[49m\u001b[43m)\u001b[49m\n\u001b[0;32m    370\u001b[0m \u001b[38;5;66;03m# fix tables if needed\u001b[39;00m\n\u001b[0;32m    371\u001b[0m tree \u001b[38;5;241m=\u001b[39m \u001b[38;5;28mself\u001b[39m\u001b[38;5;241m.\u001b[39mfix_tables(xml_src)\n",
      "File \u001b[1;32m~\\anaconda3\\envs\\Varios_BN\\lib\\site-packages\\docxtpl\\template.py:315\u001b[0m, in \u001b[0;36mDocxTemplate.build_xml\u001b[1;34m(self, context, jinja_env)\u001b[0m\n\u001b[0;32m    313\u001b[0m xml \u001b[38;5;241m=\u001b[39m \u001b[38;5;28mself\u001b[39m\u001b[38;5;241m.\u001b[39mget_xml()\n\u001b[0;32m    314\u001b[0m xml \u001b[38;5;241m=\u001b[39m \u001b[38;5;28mself\u001b[39m\u001b[38;5;241m.\u001b[39mpatch_xml(xml)\n\u001b[1;32m--> 315\u001b[0m xml \u001b[38;5;241m=\u001b[39m \u001b[38;5;28;43mself\u001b[39;49m\u001b[38;5;241;43m.\u001b[39;49m\u001b[43mrender_xml_part\u001b[49m\u001b[43m(\u001b[49m\u001b[43mxml\u001b[49m\u001b[43m,\u001b[49m\u001b[43m \u001b[49m\u001b[38;5;28;43mself\u001b[39;49m\u001b[38;5;241;43m.\u001b[39;49m\u001b[43mdocx\u001b[49m\u001b[38;5;241;43m.\u001b[39;49m\u001b[43m_part\u001b[49m\u001b[43m,\u001b[49m\u001b[43m \u001b[49m\u001b[43mcontext\u001b[49m\u001b[43m,\u001b[49m\u001b[43m \u001b[49m\u001b[43mjinja_env\u001b[49m\u001b[43m)\u001b[49m\n\u001b[0;32m    316\u001b[0m \u001b[38;5;28;01mreturn\u001b[39;00m xml\n",
      "File \u001b[1;32m~\\anaconda3\\envs\\Varios_BN\\lib\\site-packages\\docxtpl\\template.py:245\u001b[0m, in \u001b[0;36mDocxTemplate.render_xml_part\u001b[1;34m(self, src_xml, part, context, jinja_env)\u001b[0m\n\u001b[0;32m    242\u001b[0m         line_number \u001b[38;5;241m=\u001b[39m \u001b[38;5;28mmax\u001b[39m(exc\u001b[38;5;241m.\u001b[39mlineno \u001b[38;5;241m-\u001b[39m \u001b[38;5;241m4\u001b[39m, \u001b[38;5;241m0\u001b[39m)\n\u001b[0;32m    243\u001b[0m         exc\u001b[38;5;241m.\u001b[39mdocx_context \u001b[38;5;241m=\u001b[39m \u001b[38;5;28mmap\u001b[39m(\u001b[38;5;28;01mlambda\u001b[39;00m x: re\u001b[38;5;241m.\u001b[39msub(\u001b[38;5;124mr\u001b[39m\u001b[38;5;124m'\u001b[39m\u001b[38;5;124m<[^>]+>\u001b[39m\u001b[38;5;124m'\u001b[39m, \u001b[38;5;124m'\u001b[39m\u001b[38;5;124m'\u001b[39m, x),\n\u001b[0;32m    244\u001b[0m                                src_xml\u001b[38;5;241m.\u001b[39msplitlines()[line_number:(line_number \u001b[38;5;241m+\u001b[39m \u001b[38;5;241m7\u001b[39m)])\n\u001b[1;32m--> 245\u001b[0m     \u001b[38;5;28;01mraise\u001b[39;00m exc\n\u001b[0;32m    246\u001b[0m dst_xml \u001b[38;5;241m=\u001b[39m re\u001b[38;5;241m.\u001b[39msub(\u001b[38;5;124mr\u001b[39m\u001b[38;5;124m'\u001b[39m\u001b[38;5;124m\\\u001b[39m\u001b[38;5;124mn<w:p([ >])\u001b[39m\u001b[38;5;124m'\u001b[39m, \u001b[38;5;124mr\u001b[39m\u001b[38;5;124m'\u001b[39m\u001b[38;5;124m<w:p\u001b[39m\u001b[38;5;124m\\\u001b[39m\u001b[38;5;124m1\u001b[39m\u001b[38;5;124m'\u001b[39m, dst_xml)\n\u001b[0;32m    247\u001b[0m dst_xml \u001b[38;5;241m=\u001b[39m (dst_xml\n\u001b[0;32m    248\u001b[0m            \u001b[38;5;241m.\u001b[39mreplace(\u001b[38;5;124m'\u001b[39m\u001b[38;5;124m{\u001b[39m\u001b[38;5;124m_\u001b[39m\u001b[38;5;124m{\u001b[39m\u001b[38;5;124m'\u001b[39m, \u001b[38;5;124m'\u001b[39m\u001b[38;5;124m{{\u001b[39m\u001b[38;5;124m'\u001b[39m)\n\u001b[0;32m    249\u001b[0m            \u001b[38;5;241m.\u001b[39mreplace(\u001b[38;5;124m'\u001b[39m\u001b[38;5;124m}_}\u001b[39m\u001b[38;5;124m'\u001b[39m, \u001b[38;5;124m'\u001b[39m\u001b[38;5;124m}}\u001b[39m\u001b[38;5;124m'\u001b[39m)\n\u001b[0;32m    250\u001b[0m            \u001b[38;5;241m.\u001b[39mreplace(\u001b[38;5;124m'\u001b[39m\u001b[38;5;124m{\u001b[39m\u001b[38;5;124m_\u001b[39m\u001b[38;5;124m%\u001b[39m\u001b[38;5;124m'\u001b[39m, \u001b[38;5;124m'\u001b[39m\u001b[38;5;124m{\u001b[39m\u001b[38;5;124m%\u001b[39m\u001b[38;5;124m'\u001b[39m)\n\u001b[0;32m    251\u001b[0m            \u001b[38;5;241m.\u001b[39mreplace(\u001b[38;5;124m'\u001b[39m\u001b[38;5;124m%\u001b[39m\u001b[38;5;124m_}\u001b[39m\u001b[38;5;124m'\u001b[39m, \u001b[38;5;124m'\u001b[39m\u001b[38;5;124m%\u001b[39m\u001b[38;5;124m}\u001b[39m\u001b[38;5;124m'\u001b[39m))\n",
      "File \u001b[1;32m~\\anaconda3\\envs\\Varios_BN\\lib\\site-packages\\docxtpl\\template.py:238\u001b[0m, in \u001b[0;36mDocxTemplate.render_xml_part\u001b[1;34m(self, src_xml, part, context, jinja_env)\u001b[0m\n\u001b[0;32m    236\u001b[0m         template \u001b[38;5;241m=\u001b[39m jinja_env\u001b[38;5;241m.\u001b[39mfrom_string(src_xml)\n\u001b[0;32m    237\u001b[0m     \u001b[38;5;28;01melse\u001b[39;00m:\n\u001b[1;32m--> 238\u001b[0m         template \u001b[38;5;241m=\u001b[39m \u001b[43mTemplate\u001b[49m\u001b[43m(\u001b[49m\u001b[43msrc_xml\u001b[49m\u001b[43m)\u001b[49m\n\u001b[0;32m    239\u001b[0m     dst_xml \u001b[38;5;241m=\u001b[39m template\u001b[38;5;241m.\u001b[39mrender(context)\n\u001b[0;32m    240\u001b[0m \u001b[38;5;28;01mexcept\u001b[39;00m TemplateError \u001b[38;5;28;01mas\u001b[39;00m exc:\n",
      "File \u001b[1;32m~\\anaconda3\\envs\\Varios_BN\\lib\\site-packages\\jinja2\\environment.py:1208\u001b[0m, in \u001b[0;36mTemplate.__new__\u001b[1;34m(cls, source, block_start_string, block_end_string, variable_start_string, variable_end_string, comment_start_string, comment_end_string, line_statement_prefix, line_comment_prefix, trim_blocks, lstrip_blocks, newline_sequence, keep_trailing_newline, extensions, optimized, undefined, finalize, autoescape, enable_async)\u001b[0m\n\u001b[0;32m   1161\u001b[0m \u001b[38;5;28;01mdef\u001b[39;00m \u001b[38;5;21m__new__\u001b[39m(\n\u001b[0;32m   1162\u001b[0m     \u001b[38;5;28mcls\u001b[39m,\n\u001b[0;32m   1163\u001b[0m     source: t\u001b[38;5;241m.\u001b[39mUnion[\u001b[38;5;28mstr\u001b[39m, nodes\u001b[38;5;241m.\u001b[39mTemplate],\n\u001b[1;32m   (...)\u001b[0m\n\u001b[0;32m   1181\u001b[0m     enable_async: \u001b[38;5;28mbool\u001b[39m \u001b[38;5;241m=\u001b[39m \u001b[38;5;28;01mFalse\u001b[39;00m,\n\u001b[0;32m   1182\u001b[0m ) \u001b[38;5;241m-\u001b[39m\u001b[38;5;241m>\u001b[39m t\u001b[38;5;241m.\u001b[39mAny:  \u001b[38;5;66;03m# it returns a `Template`, but this breaks the sphinx build...\u001b[39;00m\n\u001b[0;32m   1183\u001b[0m     env \u001b[38;5;241m=\u001b[39m get_spontaneous_environment(\n\u001b[0;32m   1184\u001b[0m         \u001b[38;5;28mcls\u001b[39m\u001b[38;5;241m.\u001b[39menvironment_class,  \u001b[38;5;66;03m# type: ignore\u001b[39;00m\n\u001b[0;32m   1185\u001b[0m         block_start_string,\n\u001b[1;32m   (...)\u001b[0m\n\u001b[0;32m   1206\u001b[0m         enable_async,\n\u001b[0;32m   1207\u001b[0m     )\n\u001b[1;32m-> 1208\u001b[0m     \u001b[38;5;28;01mreturn\u001b[39;00m \u001b[43menv\u001b[49m\u001b[38;5;241;43m.\u001b[39;49m\u001b[43mfrom_string\u001b[49m\u001b[43m(\u001b[49m\u001b[43msource\u001b[49m\u001b[43m,\u001b[49m\u001b[43m \u001b[49m\u001b[43mtemplate_class\u001b[49m\u001b[38;5;241;43m=\u001b[39;49m\u001b[38;5;28;43mcls\u001b[39;49m\u001b[43m)\u001b[49m\n",
      "File \u001b[1;32m~\\anaconda3\\envs\\Varios_BN\\lib\\site-packages\\jinja2\\environment.py:1105\u001b[0m, in \u001b[0;36mEnvironment.from_string\u001b[1;34m(self, source, globals, template_class)\u001b[0m\n\u001b[0;32m   1103\u001b[0m gs \u001b[38;5;241m=\u001b[39m \u001b[38;5;28mself\u001b[39m\u001b[38;5;241m.\u001b[39mmake_globals(\u001b[38;5;28mglobals\u001b[39m)\n\u001b[0;32m   1104\u001b[0m \u001b[38;5;28mcls\u001b[39m \u001b[38;5;241m=\u001b[39m template_class \u001b[38;5;129;01mor\u001b[39;00m \u001b[38;5;28mself\u001b[39m\u001b[38;5;241m.\u001b[39mtemplate_class\n\u001b[1;32m-> 1105\u001b[0m \u001b[38;5;28;01mreturn\u001b[39;00m \u001b[38;5;28mcls\u001b[39m\u001b[38;5;241m.\u001b[39mfrom_code(\u001b[38;5;28mself\u001b[39m, \u001b[38;5;28;43mself\u001b[39;49m\u001b[38;5;241;43m.\u001b[39;49m\u001b[43mcompile\u001b[49m\u001b[43m(\u001b[49m\u001b[43msource\u001b[49m\u001b[43m)\u001b[49m, gs, \u001b[38;5;28;01mNone\u001b[39;00m)\n",
      "File \u001b[1;32m~\\anaconda3\\envs\\Varios_BN\\lib\\site-packages\\jinja2\\environment.py:768\u001b[0m, in \u001b[0;36mEnvironment.compile\u001b[1;34m(self, source, name, filename, raw, defer_init)\u001b[0m\n\u001b[0;32m    766\u001b[0m     \u001b[38;5;28;01mreturn\u001b[39;00m \u001b[38;5;28mself\u001b[39m\u001b[38;5;241m.\u001b[39m_compile(source, filename)\n\u001b[0;32m    767\u001b[0m \u001b[38;5;28;01mexcept\u001b[39;00m TemplateSyntaxError:\n\u001b[1;32m--> 768\u001b[0m     \u001b[38;5;28;43mself\u001b[39;49m\u001b[38;5;241;43m.\u001b[39;49m\u001b[43mhandle_exception\u001b[49m\u001b[43m(\u001b[49m\u001b[43msource\u001b[49m\u001b[38;5;241;43m=\u001b[39;49m\u001b[43msource_hint\u001b[49m\u001b[43m)\u001b[49m\n",
      "File \u001b[1;32m~\\anaconda3\\envs\\Varios_BN\\lib\\site-packages\\jinja2\\environment.py:936\u001b[0m, in \u001b[0;36mEnvironment.handle_exception\u001b[1;34m(self, source)\u001b[0m\n\u001b[0;32m    931\u001b[0m \u001b[38;5;250m\u001b[39m\u001b[38;5;124;03m\"\"\"Exception handling helper.  This is used internally to either raise\u001b[39;00m\n\u001b[0;32m    932\u001b[0m \u001b[38;5;124;03mrewritten exceptions or return a rendered traceback for the template.\u001b[39;00m\n\u001b[0;32m    933\u001b[0m \u001b[38;5;124;03m\"\"\"\u001b[39;00m\n\u001b[0;32m    934\u001b[0m \u001b[38;5;28;01mfrom\u001b[39;00m \u001b[38;5;21;01m.\u001b[39;00m\u001b[38;5;21;01mdebug\u001b[39;00m \u001b[38;5;28;01mimport\u001b[39;00m rewrite_traceback_stack\n\u001b[1;32m--> 936\u001b[0m \u001b[38;5;28;01mraise\u001b[39;00m rewrite_traceback_stack(source\u001b[38;5;241m=\u001b[39msource)\n",
      "File \u001b[1;32m<unknown>:39\u001b[0m, in \u001b[0;36mtemplate\u001b[1;34m()\u001b[0m\n",
      "\u001b[1;31mTemplateSyntaxError\u001b[0m: expected token 'end of print statement', got 'TOTAL'"
     ]
    }
   ],
   "source": [
    "for index, row in datos_df.iterrows():\n",
    "    content = {\n",
    "        'NOMBRES': row[\"NOMBRES\"]\n",
    "        \n",
    "        #,\n",
    "        #'CC': row[\"CC\"],\n",
    "        #'TELEFONO': row[\"TELEFONO\"],\n",
    "        #'CELULAR': row[\"CELULAR\"],\n",
    "        #'DIRECCION': row[\"DIRECCIÓN\"],\n",
    "        #'CORREO': row[\"CORREO\"],\n",
    "        #'CIUDAD': row[\"CIUDAD RESIDENCIA\"],\n",
    "        #'NUMERO_REQUERIMIENTO': row[\"NUMERO REQUERIMIENTO\"]\n",
    "    }\n",
    "\n",
    "    # Renderizar la plantilla con los datos de la fila actual\n",
    "    doc.render(content)\n",
    "\n",
    "    # Guardar el nuevo documento renderizado\n",
    "    doc.save(f\"{row['NUMERO REQUERIMIENTO']}_Equivalente_{row['NOMBRES']}.docx\")\n",
    "    print(content)"
   ]
  },
  {
   "cell_type": "code",
   "execution_count": 7,
   "id": "6641771d-27c8-46d1-9128-8cc93b4e278b",
   "metadata": {},
   "outputs": [
    {
     "ename": "NameError",
     "evalue": "name 'Document' is not defined",
     "output_type": "error",
     "traceback": [
      "\u001b[1;31m---------------------------------------------------------------------------\u001b[0m",
      "\u001b[1;31mNameError\u001b[0m                                 Traceback (most recent call last)",
      "Cell \u001b[1;32mIn[7], line 2\u001b[0m\n\u001b[0;32m      1\u001b[0m \u001b[38;5;66;03m# Cargar la plantilla de Word\u001b[39;00m\n\u001b[1;32m----> 2\u001b[0m doc \u001b[38;5;241m=\u001b[39m \u001b[43mDocument\u001b[49m(plantilla_path)\n\u001b[0;32m      4\u001b[0m \u001b[38;5;66;03m# Reemplazar los marcadores de posición con los datos del cliente\u001b[39;00m\n\u001b[0;32m      5\u001b[0m reemplazar_texto_en_documento(doc, \u001b[38;5;124m'\u001b[39m\u001b[38;5;124m{{\u001b[39m\u001b[38;5;124mNOMBRES}}\u001b[39m\u001b[38;5;124m'\u001b[39m, \u001b[38;5;28mstr\u001b[39m(row[\u001b[38;5;124m'\u001b[39m\u001b[38;5;124mNOMBRES\u001b[39m\u001b[38;5;124m'\u001b[39m]))\n",
      "\u001b[1;31mNameError\u001b[0m: name 'Document' is not defined"
     ]
    }
   ],
   "source": [
    "\n",
    "    \n",
    "    \n",
    "    # Cargar la plantilla de Word\n",
    "    doc = Document(plantilla_path)\n",
    "  \n",
    "    # Reemplazar los marcadores de posición con los datos del cliente\n",
    "    reemplazar_texto_en_documento(doc, '{{NOMBRES}}', str(row['NOMBRES']))\n",
    "    reemplazar_texto_en_documento(doc, '{{CC}}', str(row['CC']))\n",
    "    reemplazar_texto_en_documento(doc, '{{TELEFONO}}', str(row['TELEFONO']))\n",
    "    reemplazar_texto_en_documento(doc, '{{CELULAR}}', str(row['CELULAR']))\n",
    "    reemplazar_texto_en_documento(doc, '{{DIRECCIÓN}}', str(row['DIRECCIÓN']))\n",
    "    reemplazar_texto_en_documento(doc, '{{CORREO}}', str(row['CORREO']))\n",
    "    reemplazar_texto_en_documento(doc, '{{CIUDAD RESIDENCIA}}', str(row['CIUDAD RESIDENCIA']))\n",
    "    reemplazar_texto_en_documento(doc, '{{VALOR TOTAL}}', str(row['VALOR TOTAL INTERMUNICIPAL Y DESPLAZAMIENTO']))\n",
    "\n",
    "\n",
    "    valor_interm_desplaza = row['VALOR TOTAL INTERMUNICIPAL Y DESPLAZAMIENTO']\n",
    "    if pd.notna(valor_interm_desplaza):\n",
    "        valor_interm_desplaza = float(valor_interm_desplaza)\n",
    "        valor_en_palabras = num2words(valor_interm_desplaza, lang='es').upper()\n",
    "        valor_en_palabras_str = f\"{valor_en_palabras} M/CTE\"\n",
    "    else:\n",
    "        valor_en_palabras_str = ''\n",
    "    reemplazar_texto_en_documento(doc, '{{VALOR TOTAL INTERMUNICIPAL Y DESPLAZAMIENTO}}', valor_en_palabras_str)\n",
    "\n",
    "    # Nombre del archivo de salida\n",
    "    nombre_archivo = os.path.join(output_folder, f\"{row['NUMERO REQUERIMIENTO']}_Equivalente_{row['NOMBRES']}.docx\")\n",
    "\n",
    "    # Guardar el nuevo documento\n",
    "    doc.save(nombre_archivo)\n",
    "\n",
    "print(\"Documentos generados con éxito.\")"
   ]
  }
 ],
 "metadata": {
  "kernelspec": {
   "display_name": "Python 3 (ipykernel)",
   "language": "python",
   "name": "python3"
  },
  "language_info": {
   "codemirror_mode": {
    "name": "ipython",
    "version": 3
   },
   "file_extension": ".py",
   "mimetype": "text/x-python",
   "name": "python",
   "nbconvert_exporter": "python",
   "pygments_lexer": "ipython3",
   "version": "3.9.18"
  }
 },
 "nbformat": 4,
 "nbformat_minor": 5
}
